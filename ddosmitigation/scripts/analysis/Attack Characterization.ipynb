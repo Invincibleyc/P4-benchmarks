{
 "cells": [
  {
   "cell_type": "code",
   "execution_count": 3,
   "metadata": {},
   "outputs": [],
   "source": [
    "import pandas as pd\n",
    "import matplotlib.pyplot as plt\n",
    "import csv\n",
    "import numpy as np"
   ]
  },
  {
   "cell_type": "code",
   "execution_count": 4,
   "metadata": {},
   "outputs": [
    {
     "name": "stdout",
     "output_type": "stream",
     "text": [
      "###################    ATTACK HISTOGRAM    ###################\n"
     ]
    }
   ],
   "source": [
    "print ('###################    ATTACK HISTOGRAM    ###################') "
   ]
  },
  {
   "cell_type": "code",
   "execution_count": 20,
   "metadata": {},
   "outputs": [
    {
     "data": {
      "text/html": [
       "<div>\n",
       "<style scoped>\n",
       "    .dataframe tbody tr th:only-of-type {\n",
       "        vertical-align: middle;\n",
       "    }\n",
       "\n",
       "    .dataframe tbody tr th {\n",
       "        vertical-align: top;\n",
       "    }\n",
       "\n",
       "    .dataframe thead th {\n",
       "        text-align: right;\n",
       "    }\n",
       "</style>\n",
       "<table border=\"1\" class=\"dataframe\">\n",
       "  <thead>\n",
       "    <tr style=\"text-align: right;\">\n",
       "      <th></th>\n",
       "      <th>No.</th>\n",
       "      <th>Time</th>\n",
       "      <th>Source</th>\n",
       "      <th>Destination</th>\n",
       "      <th>Protocol</th>\n",
       "      <th>Length</th>\n",
       "      <th>Info</th>\n",
       "    </tr>\n",
       "  </thead>\n",
       "  <tbody>\n",
       "    <tr>\n",
       "      <th>0</th>\n",
       "      <td>1</td>\n",
       "      <td>0.000000</td>\n",
       "      <td>210.126.212.131</td>\n",
       "      <td>10.0.53.99</td>\n",
       "      <td>ICMP</td>\n",
       "      <td>28</td>\n",
       "      <td>Echo (ping) request  id=0x0200, seq=1280/5, tt...</td>\n",
       "    </tr>\n",
       "    <tr>\n",
       "      <th>1</th>\n",
       "      <td>2</td>\n",
       "      <td>0.000007</td>\n",
       "      <td>115.64.244.251</td>\n",
       "      <td>10.0.53.99</td>\n",
       "      <td>ICMP</td>\n",
       "      <td>28</td>\n",
       "      <td>Echo (ping) request  id=0x0200, seq=1280/5, tt...</td>\n",
       "    </tr>\n",
       "    <tr>\n",
       "      <th>2</th>\n",
       "      <td>3</td>\n",
       "      <td>0.000014</td>\n",
       "      <td>199.157.26.147</td>\n",
       "      <td>10.0.53.99</td>\n",
       "      <td>ICMP</td>\n",
       "      <td>28</td>\n",
       "      <td>Echo (ping) request  id=0x0001, seq=1280/5, tt...</td>\n",
       "    </tr>\n",
       "    <tr>\n",
       "      <th>3</th>\n",
       "      <td>4</td>\n",
       "      <td>0.000019</td>\n",
       "      <td>212.223.65.76</td>\n",
       "      <td>10.0.53.99</td>\n",
       "      <td>ICMP</td>\n",
       "      <td>28</td>\n",
       "      <td>Echo (ping) request  id=0x0200, seq=1280/5, tt...</td>\n",
       "    </tr>\n",
       "    <tr>\n",
       "      <th>4</th>\n",
       "      <td>5</td>\n",
       "      <td>0.000025</td>\n",
       "      <td>203.255.196.135</td>\n",
       "      <td>10.0.53.99</td>\n",
       "      <td>ICMP</td>\n",
       "      <td>28</td>\n",
       "      <td>Echo (ping) request  id=0x0200, seq=1280/5, tt...</td>\n",
       "    </tr>\n",
       "  </tbody>\n",
       "</table>\n",
       "</div>"
      ],
      "text/plain": [
       "   No.      Time           Source Destination Protocol  Length  \\\n",
       "0    1  0.000000  210.126.212.131  10.0.53.99     ICMP      28   \n",
       "1    2  0.000007   115.64.244.251  10.0.53.99     ICMP      28   \n",
       "2    3  0.000014   199.157.26.147  10.0.53.99     ICMP      28   \n",
       "3    4  0.000019    212.223.65.76  10.0.53.99     ICMP      28   \n",
       "4    5  0.000025  203.255.196.135  10.0.53.99     ICMP      28   \n",
       "\n",
       "                                                Info  \n",
       "0  Echo (ping) request  id=0x0200, seq=1280/5, tt...  \n",
       "1  Echo (ping) request  id=0x0200, seq=1280/5, tt...  \n",
       "2  Echo (ping) request  id=0x0001, seq=1280/5, tt...  \n",
       "3  Echo (ping) request  id=0x0200, seq=1280/5, tt...  \n",
       "4  Echo (ping) request  id=0x0200, seq=1280/5, tt...  "
      ]
     },
     "execution_count": 20,
     "metadata": {},
     "output_type": "execute_result"
    }
   ],
   "source": [
    "attack = pd.read_csv(\"attack.csv\",delimiter=',')\n",
    "attack.head()"
   ]
  },
  {
   "cell_type": "code",
   "execution_count": 23,
   "metadata": {},
   "outputs": [
    {
     "name": "stdout",
     "output_type": "stream",
     "text": [
      "0          210.126.212.131\n",
      "1           115.64.244.251\n",
      "2           199.157.26.147\n",
      "3            212.223.65.76\n",
      "4          203.255.196.135\n",
      "                ...       \n",
      "1228795     193.122.65.161\n",
      "1228796    230.254.219.126\n",
      "1228797    213.217.219.233\n",
      "1228798    197.217.162.134\n",
      "1228799      192.45.222.15\n",
      "Name: Source, Length: 1228800, dtype: object\n"
     ]
    }
   ],
   "source": [
    "srcattack = attack['Source']\n",
    "print(srcattack)"
   ]
  },
  {
   "cell_type": "code",
   "execution_count": 24,
   "metadata": {},
   "outputs": [
    {
     "data": {
      "image/png": "[encoded data removed]",
      "text/plain": [
       "<Figure size 432x288 with 1 Axes>"
      ]
     },
     "metadata": {
      "needs_background": "light"
     },
     "output_type": "display_data"
    }
   ],
   "source": [
    "plt.hist(srcattack, bins=8192)\n",
    "plt.xlabel('Source IP Address')\n",
    "plt.ylabel('No of times')\n",
    "plt.ylim(ymin=1, ymax = 500)\n",
    "plt.show()"
   ]
  },
  {
   "cell_type": "code",
   "execution_count": null,
   "metadata": {},
   "outputs": [],
   "source": []
  }
 ],
 "metadata": {
  "kernelspec": {
   "display_name": "Python 3",
   "language": "python",
   "name": "python3"
  },
  "language_info": {
   "codemirror_mode": {
    "name": "ipython",
    "version": 3
   },
   "file_extension": ".py",
   "mimetype": "text/x-python",
   "name": "python",
   "nbconvert_exporter": "python",
   "pygments_lexer": "ipython3",
   "version": "3.8.0"
  }
 },
 "nbformat": 4,
 "nbformat_minor": 2
}
